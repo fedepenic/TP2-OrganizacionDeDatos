{
  "nbformat": 4,
  "nbformat_minor": 0,
  "metadata": {
    "colab": {
      "name": "LightGBMOptimizado.ipynb",
      "provenance": []
    },
    "kernelspec": {
      "name": "python3",
      "display_name": "Python 3"
    },
    "language_info": {
      "name": "python"
    }
  },
  "cells": [
    {
      "cell_type": "markdown",
      "metadata": {
        "id": "vEa4047Av9UF"
      },
      "source": [
        "#Importación de librerías"
      ]
    },
    {
      "cell_type": "code",
      "metadata": {
        "id": "M05M4-iUc95c"
      },
      "source": [
        "#Importamos librerias y leemos los archivos de datos. \n",
        "\n",
        "import pandas as pd\n",
        "import numpy as np\n",
        "import matplotlib.pyplot as plt\n",
        "import seaborn as sns\n",
        "from scipy import stats\n",
        "\n",
        "from sklearn.ensemble import RandomForestRegressor\n",
        "from sklearn.metrics import mean_squared_error\n",
        "import pandas as pd\n",
        "import numpy as np\n",
        "%matplotlib inline\n",
        "import matplotlib.pyplot as plt\n",
        "from sklearn import tree\n",
        "from sklearn.metrics import f1_score, make_scorer\n",
        "import lightgbm as lgb\n",
        "from sklearn.model_selection import train_test_split\n",
        "\n",
        "from sklearn.ensemble import RandomForestClassifier\n",
        "from sklearn.model_selection import GridSearchCV\n",
        "\n",
        "from sklearn.model_selection import cross_validate,KFold, RandomizedSearchCV\n",
        "\n",
        "%matplotlib inline\n",
        "\n",
        "plt.style.use('default') # haciendo los graficos un poco mas bonitos en matplotlib\n",
        "#plt.rcParams['figure.figsize'] = (20, 10)\n",
        "\n",
        "sns.set(style=\"whitegrid\") # seteando tipo de grid en seaborn\n",
        "\n",
        "pd.options.display.float_format = '{:20,.5f}'.format # suprimimos la notacion cientifica en los outputs\n",
        "\n",
        "import warnings\n",
        "warnings.filterwarnings('ignore')\n",
        "\n"
      ],
      "execution_count": null,
      "outputs": []
    },
    {
      "cell_type": "code",
      "metadata": {
        "id": "S0NMFJspUkjr"
      },
      "source": [
        "# hay varias features que todavia no se usan\n",
        "dtype_={'building_id':'int32',\n",
        "        'geo_level_1_id':'int8',\n",
        "        'geo_level_2_id':'int16',\n",
        "        'geo_level_3_id':'int16',\n",
        "        'count_floors_pre_eq':'int8',\n",
        "        'age':'int16',\n",
        "        'area_percentage':'int8',\n",
        "        'height_percentage':'int8',\n",
        "        'land_surface_condition':'category',\n",
        "        'foundation_type':'category',\n",
        "        'roof_type':'category',\n",
        "        'ground_floor_type':'category',\n",
        "        'other_floor_type':'category',\n",
        "        'has_superstructure_adobe_mud':'int8',\n",
        "        'has_superstructure_mud_mortar_stone':'int8',\n",
        "        'has_superstructure_stone_flag':'int8',\n",
        "        'has_superstructure_cement_mortar_stone':'int8',\n",
        "        'has_superstructure_mud_mortar_brick':'int8',\n",
        "        'has_superstructure_cement_mortar_brick':'int8',\n",
        "        'has_superstructure_timber':'int8',\n",
        "        'has_superstructure_bamboo':'int8',\n",
        "        'has_superstructure_rc_non_engineered':'int8',\n",
        "        'has_superstructure_rc_engineered':'int8',\n",
        "        'has_superstructure_other':'int8'}\n",
        "\n",
        "train_values=pd.read_csv('train_values.csv',dtype=dtype_)\n",
        "train_labels=pd.read_csv('train_labels.csv',dtype={'building_id':'int32','damage_grade':'int8'})\n",
        "\n",
        "test_values=pd.read_csv('test_values.csv',dtype=dtype_)\n",
        "submission_format = pd.read_csv('submission_format.csv', index_col='building_id')"
      ],
      "execution_count": null,
      "outputs": []
    },
    {
      "cell_type": "markdown",
      "metadata": {
        "id": "J5Ew-X9nxq9A"
      },
      "source": [
        "###F1 Scorer"
      ]
    },
    {
      "cell_type": "code",
      "metadata": {
        "id": "gUquM9dMVz4N"
      },
      "source": [
        "f1 = make_scorer(f1_score , average='micro')"
      ],
      "execution_count": null,
      "outputs": []
    },
    {
      "cell_type": "markdown",
      "metadata": {
        "id": "0f0RhCnRjcoG"
      },
      "source": [
        "#Feature Engineering"
      ]
    },
    {
      "cell_type": "code",
      "metadata": {
        "id": "Fz_bDcFiUwV9"
      },
      "source": [
        "geo_level=train_values.loc[:,['building_id','geo_level_1_id','geo_level_2_id','geo_level_3_id']].merge(train_labels)\n",
        "gl_by_mean=[np.zeros(geo_level.geo_level_1_id.max()+1),\n",
        "            np.zeros(geo_level.geo_level_2_id.max()+1),\n",
        "            np.zeros(geo_level.geo_level_3_id.max()+1)]\n",
        "gl_by_mode=[np.zeros(geo_level.geo_level_1_id.max()+1),\n",
        "            np.zeros(geo_level.geo_level_2_id.max()+1),\n",
        "            np.zeros(geo_level.geo_level_3_id.max()+1)]\n",
        "gl_combine=[np.zeros(geo_level.geo_level_1_id.max()+1),\n",
        "            np.zeros(geo_level.geo_level_2_id.max()+1),\n",
        "            np.zeros(geo_level.geo_level_3_id.max()+1)]\n",
        "\n",
        "for key,value in geo_level.groupby('geo_level_1_id').agg({'damage_grade':'mean'}).to_dict()['damage_grade'].items():\n",
        "    gl_by_mean[0][key]=value\n",
        "for key,value in geo_level.groupby('geo_level_2_id').agg({'damage_grade':'mean'}).to_dict()['damage_grade'].items():\n",
        "    gl_by_mean[1][key]=value\n",
        "for key,value in geo_level.groupby('geo_level_3_id').agg({'damage_grade':'mean'}).to_dict()['damage_grade'].items():\n",
        "    gl_by_mean[2][key]=value\n",
        "for key,value in geo_level.groupby('geo_level_1_id').agg({'damage_grade':lambda x: stats.mode(x)[0][0]})\\\n",
        "                 .to_dict()['damage_grade'].items():\n",
        "    gl_by_mode[0][key]=value\n",
        "for key,value in geo_level.groupby('geo_level_2_id').agg({'damage_grade':lambda x: stats.mode(x)[0][0]})\\\n",
        "                 .to_dict()['damage_grade'].items():\n",
        "    gl_by_mode[1][key]=value\n",
        "for key,value in geo_level.groupby('geo_level_3_id').agg({'damage_grade':lambda x: stats.mode(x)[0][0]})\\\n",
        "                 .to_dict()['damage_grade'].items():\n",
        "    gl_by_mode[2][key]=value\n",
        "for gl in gl_by_mean:\n",
        "    for i,value in enumerate(gl):\n",
        "        if value == 0:\n",
        "            gl[i]=gl[i-1]\n",
        "for gl in gl_by_mode:\n",
        "    for i,value in enumerate(gl):\n",
        "        if value == 0:\n",
        "            gl[i]=gl[i-1]\n",
        "gl_combine=[gl_by_mean[i]+gl_by_mode[i] for i in range(3)]\n",
        "\n",
        "foundation_dict={'i':0,'w':1,'u':2,'h':3,'r':4}\n",
        "other_floor_dict={'s':0,'j':1,'q':2,'x':2}\n",
        "\n",
        "def get_features(features):\n",
        "    short=features.loc[:,['building_id','geo_level_1_id','geo_level_2_id','geo_level_3_id','foundation_type',\\\n",
        "                          'age','roof_type','ground_floor_type','other_floor_type','count_floors_pre_eq',\\\n",
        "                          'height_percentage','area_percentage']\\\n",
        "                           +[col for col in features.columns if col.startswith('has_superstructure')]]\n",
        "    short['height_to_area_rt']=short['height_percentage']/short['area_percentage']\n",
        "\n",
        "    # Aca se elige el encoding que se quiere usar para cada geo_level\n",
        "    short['geo_level_1_id']=short.agg({'geo_level_1_id':lambda x:gl_by_mean[0][x]})\n",
        "    short['geo_level_2_id']=short.agg({'geo_level_2_id':lambda x:gl_combine[1][x]})\n",
        "    short['geo_level_3_id']=short.agg({'geo_level_3_id':lambda x:gl_combine[2][x]})\n",
        "\n",
        "    # Encodeo las variables categóricas así porque en el TP1 parecían ser las que más peso tenían sobre damage_grade\n",
        "    short.other_floor_type=short.agg({'other_floor_type':lambda x:other_floor_dict[x]})\n",
        "    short.foundation_type=short.agg({'foundation_type':lambda x:foundation_dict[x]})\n",
        "    short.roof_type=short['roof_type']=='x'\n",
        "    short.ground_floor_type=short['ground_floor_type']=='v'\n",
        "    return short"
      ],
      "execution_count": null,
      "outputs": []
    },
    {
      "cell_type": "code",
      "metadata": {
        "id": "SOi6K3qNVLYj"
      },
      "source": [
        "\n",
        "short_train=get_features(train_values)\n",
        "short_train=short_train.merge(train_labels)\n",
        "X, y = short_train.iloc[:,:-1],short_train.iloc[:,-1]"
      ],
      "execution_count": null,
      "outputs": []
    },
    {
      "cell_type": "markdown",
      "metadata": {
        "id": "LqqL0Rs7h8K7"
      },
      "source": [
        "##Tuning de Hiperparámetros"
      ]
    },
    {
      "cell_type": "code",
      "metadata": {
        "id": "rLp_3ezMh0H6"
      },
      "source": [
        "parameters = {'max_depth'         : [10,12],\n",
        "              'iterations'    : [1000,1500],\n",
        "              'learning_rate'   :[0.09,0.115,0.12],\n",
        "            }"
      ],
      "execution_count": null,
      "outputs": []
    },
    {
      "cell_type": "code",
      "metadata": {
        "id": "r78U8GpDjtUd"
      },
      "source": [
        "%%time\n",
        "clf=lgb.LGBMClassifier()\n",
        "\n",
        "kf=KFold(n_splits=2,shuffle=True)\n",
        "\n",
        "gds=GridSearchCV(clf, param_grid = parameters, cv = kf, scoring = f1)\n",
        "\n",
        "gds.fit(X,y)"
      ],
      "execution_count": null,
      "outputs": []
    },
    {
      "cell_type": "code",
      "metadata": {
        "colab": {
          "base_uri": "https://localhost:8080/"
        },
        "id": "3a--R9IjkZeh",
        "outputId": "5d06be44-64b4-4cc2-dc64-1ecb4b8c8337"
      },
      "source": [
        "gds.best_params_"
      ],
      "execution_count": null,
      "outputs": [
        {
          "output_type": "execute_result",
          "data": {
            "text/plain": [
              "{'iterations': 1000, 'learning_rate': 0.12, 'max_depth': 12}"
            ]
          },
          "metadata": {
            "tags": []
          },
          "execution_count": 53
        }
      ]
    },
    {
      "cell_type": "code",
      "metadata": {
        "id": "m_Wfh2eEvC1b"
      },
      "source": [
        "model=lgb.LGBMClassifier(n_jobs=-1,max_depth= 12,learning_rate= 0.12, num_iterations=1000)"
      ],
      "execution_count": null,
      "outputs": []
    },
    {
      "cell_type": "code",
      "metadata": {
        "colab": {
          "base_uri": "https://localhost:8080/"
        },
        "id": "3UV8c68yv0u9",
        "outputId": "04d5742a-fd8b-45f1-b98e-8a12511e50df"
      },
      "source": [
        "# Train\n",
        "model.fit(X,y)"
      ],
      "execution_count": null,
      "outputs": [
        {
          "output_type": "execute_result",
          "data": {
            "text/plain": [
              "LGBMClassifier(boosting_type='gbdt', class_weight=None, colsample_bytree=1.0,\n",
              "               importance_type='split', learning_rate=0.12, max_depth=12,\n",
              "               min_child_samples=20, min_child_weight=0.001, min_split_gain=0.0,\n",
              "               n_estimators=100, n_jobs=-1, num_iterations=1000, num_leaves=31,\n",
              "               objective=None, random_state=None, reg_alpha=0.0, reg_lambda=0.0,\n",
              "               silent=True, subsample=1.0, subsample_for_bin=200000,\n",
              "               subsample_freq=0)"
            ]
          },
          "metadata": {
            "tags": []
          },
          "execution_count": 55
        }
      ]
    },
    {
      "cell_type": "markdown",
      "metadata": {
        "id": "apOfMta5zxKF"
      },
      "source": [
        "##Verificamos el score"
      ]
    },
    {
      "cell_type": "code",
      "metadata": {
        "colab": {
          "base_uri": "https://localhost:8080/"
        },
        "id": "bjPW6Kzfv35t",
        "outputId": "cc242b0e-980b-44a7-df32-9be0744af24b"
      },
      "source": [
        "f1_score(y, model.predict(X), average='micro')"
      ],
      "execution_count": null,
      "outputs": [
        {
          "output_type": "execute_result",
          "data": {
            "text/plain": [
              "0.7948741562772207"
            ]
          },
          "metadata": {
            "tags": []
          },
          "execution_count": 56
        }
      ]
    },
    {
      "cell_type": "code",
      "metadata": {
        "colab": {
          "base_uri": "https://localhost:8080/",
          "height": 237
        },
        "id": "jzAjzW5TX54C",
        "outputId": "82c867e2-c864-4c8b-8f2f-b0bf63032c92"
      },
      "source": [
        "submission = pd.DataFrame(data=model.predict(get_features(test_values)),\n",
        "                          columns=submission_format.columns,\n",
        "                          index=submission_format.index)\n",
        "submission.head()"
      ],
      "execution_count": null,
      "outputs": [
        {
          "output_type": "execute_result",
          "data": {
            "text/html": [
              "<div>\n",
              "<style scoped>\n",
              "    .dataframe tbody tr th:only-of-type {\n",
              "        vertical-align: middle;\n",
              "    }\n",
              "\n",
              "    .dataframe tbody tr th {\n",
              "        vertical-align: top;\n",
              "    }\n",
              "\n",
              "    .dataframe thead th {\n",
              "        text-align: right;\n",
              "    }\n",
              "</style>\n",
              "<table border=\"1\" class=\"dataframe\">\n",
              "  <thead>\n",
              "    <tr style=\"text-align: right;\">\n",
              "      <th></th>\n",
              "      <th>damage_grade</th>\n",
              "    </tr>\n",
              "    <tr>\n",
              "      <th>building_id</th>\n",
              "      <th></th>\n",
              "    </tr>\n",
              "  </thead>\n",
              "  <tbody>\n",
              "    <tr>\n",
              "      <th>300051</th>\n",
              "      <td>3</td>\n",
              "    </tr>\n",
              "    <tr>\n",
              "      <th>99355</th>\n",
              "      <td>2</td>\n",
              "    </tr>\n",
              "    <tr>\n",
              "      <th>890251</th>\n",
              "      <td>3</td>\n",
              "    </tr>\n",
              "    <tr>\n",
              "      <th>745817</th>\n",
              "      <td>1</td>\n",
              "    </tr>\n",
              "    <tr>\n",
              "      <th>421793</th>\n",
              "      <td>3</td>\n",
              "    </tr>\n",
              "  </tbody>\n",
              "</table>\n",
              "</div>"
            ],
            "text/plain": [
              "             damage_grade\n",
              "building_id              \n",
              "300051                  3\n",
              "99355                   2\n",
              "890251                  3\n",
              "745817                  1\n",
              "421793                  3"
            ]
          },
          "metadata": {
            "tags": []
          },
          "execution_count": 59
        }
      ]
    },
    {
      "cell_type": "code",
      "metadata": {
        "id": "Xsgugb-wXNw2"
      },
      "source": [
        "submission.to_csv('submissionLightGBM.csv')"
      ],
      "execution_count": null,
      "outputs": []
    },
    {
      "cell_type": "markdown",
      "metadata": {
        "id": "Wx3IZAS4yLSz"
      },
      "source": [
        "Este modelo obtuvo 0.7387 en drivendata"
      ]
    }
  ]
}