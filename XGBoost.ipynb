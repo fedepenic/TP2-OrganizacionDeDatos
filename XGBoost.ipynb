{
 "cells": [
  {
   "cell_type": "code",
   "execution_count": 1,
   "id": "3d0d60a4-fae8-40ac-bae1-e74f79597724",
   "metadata": {},
   "outputs": [],
   "source": [
    "import xgboost as xgb\n",
    "import pandas as pd\n",
    "import numpy as np\n",
    "import matplotlib.pyplot as plt\n",
    "import seaborn as sns\n",
    "from scipy import stats\n",
    "from sklearn.metrics import f1_score\n",
    "\n",
    "%matplotlib inline\n",
    "\n",
    "plt.style.use('default') # haciendo los graficos un poco mas bonitos en matplotlib\n",
    "#plt.rcParams['figure.figsize'] = (20, 10)\n",
    "\n",
    "sns.set(style=\"whitegrid\") # seteando tipo de grid en seaborn\n",
    "\n",
    "pd.options.display.float_format = '{:20,.2f}'.format # suprimimos la notacion cientifica en los outputs\n",
    "\n",
    "import warnings\n",
    "warnings.filterwarnings('ignore')"
   ]
  },
  {
   "cell_type": "code",
   "execution_count": 2,
   "id": "2cf5c526-d99b-4d43-82e1-f552b7f10df5",
   "metadata": {},
   "outputs": [],
   "source": [
    "# hay varias features que todavia no se usan\n",
    "features = pd.read_csv('train_values.csv', dtype={'building_id':'int32',\n",
    "                                                  'geo_level_1_id':'int8',\n",
    "                                                  'geo_level_2_id':'int16',\n",
    "                                                  'geo_level_3_id':'int16',\n",
    "                                                  'count_floors_pre_eq':'int8',\n",
    "                                                  'age':'int16',\n",
    "                                                  'area_percentage':'int8',\n",
    "                                                  'height_percentage':'int8',\n",
    "                                                  'land_surface_condition':'category',\n",
    "                                                  'foundation_type':'category',\n",
    "                                                  'roof_type':'category',\n",
    "                                                  'ground_floor_type':'category',\n",
    "                                                  'other_floor_type':'category',\n",
    "                                                  'plan_configuration':'category',\n",
    "                                                  'position':'category',\n",
    "                                                  'has_superstructure_adobe_mud':'int8',\n",
    "                                                  'has_superstructure_mud_mortar_stone':'int8',\n",
    "                                                  'has_superstructure_stone_flag':'int8',\n",
    "                                                  'has_superstructure_cement_mortar_stone':'int8',\n",
    "                                                  'has_superstructure_mud_mortar_brick':'int8',\n",
    "                                                  'has_superstructure_cement_mortar_brick':'int8',\n",
    "                                                  'has_superstructure_timber':'int8',\n",
    "                                                  'has_superstructure_bamboo':'int8',\n",
    "                                                  'has_superstructure_rc_non_engineered':'int8',\n",
    "                                                  'has_superstructure_rc_engineered':'int8',\n",
    "                                                  'has_superstructure_other':'int8',\n",
    "                                                  'legal_ownership_status':'category',\n",
    "                                                  'count_families':'int8',\n",
    "                                                  'has_secondary_use':'int8',\n",
    "                                                  'has_secondary_use_agriculture':'int8',\n",
    "                                                  'has_secondary_use_hotel':'int8',\n",
    "                                                  'has_secondary_use_rental':'int8',\n",
    "                                                  'has_secondary_use_institution':'int8',\n",
    "                                                  'has_secondary_use_school':'int8',\n",
    "                                                  'has_secondary_use_industry':'int8',\n",
    "                                                  'has_secondary_use_health_post':'int8',\n",
    "                                                  'has_secondary_use_gov_office':'int8',\n",
    "                                                  'has_secondary_use_use_police':'int8',\n",
    "                                                  'has_secondary_use_other':'int8'})\n",
    "damage_grade = pd.read_csv('train_labels.csv', dtype={'building_id':'int32','damage_grade':'int8'})"
   ]
  },
  {
   "cell_type": "code",
   "execution_count": 3,
   "id": "b0b1c2b2-4aa3-4791-805a-18535c63a14f",
   "metadata": {},
   "outputs": [],
   "source": [
    "geo_level=features.loc[:,['building_id','geo_level_1_id','geo_level_2_id','geo_level_3_id']].merge(damage_grade)"
   ]
  },
  {
   "cell_type": "code",
   "execution_count": 4,
   "id": "d9e33335-9cc1-4c53-b405-f7df45b227df",
   "metadata": {},
   "outputs": [],
   "source": [
    "# Aca hago mean encoding, mode(moda) encoding y uno mas que es la suma de los 2."
   ]
  },
  {
   "cell_type": "code",
   "execution_count": 5,
   "id": "0488e2cf-6d20-433c-a600-e2136e07295f",
   "metadata": {},
   "outputs": [],
   "source": [
    "gl_by_mean=[np.zeros(geo_level.geo_level_1_id.max()+1),\n",
    "            np.zeros(geo_level.geo_level_2_id.max()+1),\n",
    "            np.zeros(geo_level.geo_level_3_id.max()+1)]\n",
    "gl_by_mode=[np.zeros(geo_level.geo_level_1_id.max()+1),\n",
    "            np.zeros(geo_level.geo_level_2_id.max()+1),\n",
    "            np.zeros(geo_level.geo_level_3_id.max()+1)]\n",
    "gl_combine=[np.zeros(geo_level.geo_level_1_id.max()+1),\n",
    "            np.zeros(geo_level.geo_level_2_id.max()+1),\n",
    "            np.zeros(geo_level.geo_level_3_id.max()+1)]\n",
    "\n",
    "for key,value in geo_level.groupby('geo_level_1_id').agg({'damage_grade':'mean'}).to_dict()['damage_grade'].items():\n",
    "    gl_by_mean[0][key]=value\n",
    "for key,value in geo_level.groupby('geo_level_2_id').agg({'damage_grade':'mean'}).to_dict()['damage_grade'].items():\n",
    "    gl_by_mean[1][key]=value\n",
    "for key,value in geo_level.groupby('geo_level_3_id').agg({'damage_grade':'mean'}).to_dict()['damage_grade'].items():\n",
    "    gl_by_mean[2][key]=value\n",
    "for key,value in geo_level.groupby('geo_level_1_id').agg({'damage_grade':lambda x: stats.mode(x)[0][0]})\\\n",
    "                 .to_dict()['damage_grade'].items():\n",
    "    gl_by_mode[0][key]=value\n",
    "for key,value in geo_level.groupby('geo_level_2_id').agg({'damage_grade':lambda x: stats.mode(x)[0][0]})\\\n",
    "                 .to_dict()['damage_grade'].items():\n",
    "    gl_by_mode[1][key]=value\n",
    "for key,value in geo_level.groupby('geo_level_3_id').agg({'damage_grade':lambda x: stats.mode(x)[0][0]})\\\n",
    "                 .to_dict()['damage_grade'].items():\n",
    "    gl_by_mode[2][key]=value\n",
    "for gl in gl_by_mean:\n",
    "    for i,value in enumerate(gl):\n",
    "        if value == 0:\n",
    "            gl[i]=gl[i-1]\n",
    "for gl in gl_by_mode:\n",
    "    for i,value in enumerate(gl):\n",
    "        if value == 0:\n",
    "            gl[i]=gl[i-1]\n",
    "gl_combine=[gl_by_mean[i]+gl_by_mode[i] for i in range(3)]"
   ]
  },
  {
   "cell_type": "code",
   "execution_count": 6,
   "id": "0c8e68e4-cea6-4775-ab42-0ecc12521b63",
   "metadata": {},
   "outputs": [],
   "source": [
    "short=features.loc[:,['building_id','geo_level_1_id','geo_level_2_id','geo_level_3_id','foundation_type','roof_type','ground_floor_type','other_floor_type','count_floors_pre_eq','age']]\n",
    "short['height_to_area_rt']=features['height_percentage']/features['area_percentage']\n",
    "\n",
    "# Aca se elige el encoding que se quiere usar para cada geo_level\n",
    "short['geo_level_1_id']=short.agg({'geo_level_1_id':lambda x:gl_by_mean[0][x]})\n",
    "short['geo_level_2_id']=short.agg({'geo_level_2_id':lambda x:gl_by_mode[1][x]})\n",
    "short['geo_level_3_id']=short.agg({'geo_level_3_id':lambda x:gl_combine[2][x]})\n",
    "\n",
    "# Encodeo las variables categóricas así porque en el TP1 parecían ser las que más peso tenían sobre damage_grade\n",
    "short.ground_floor_type=short['ground_floor_type']=='v'\n",
    "short.other_floor_type=short['other_floor_type']=='s'\n",
    "short.roof_type=short['roof_type']=='x'\n",
    "short.foundation_type=short['foundation_type']=='r'\n",
    "\n",
    "short=short.merge(damage_grade)"
   ]
  },
  {
   "cell_type": "code",
   "execution_count": 7,
   "id": "2187b945-0204-4443-a51f-96c310bd043f",
   "metadata": {},
   "outputs": [],
   "source": [
    "X, y = short.iloc[:,:-1],short.iloc[:,-1]"
   ]
  },
  {
   "cell_type": "code",
   "execution_count": 8,
   "id": "fc2ea182-5f68-4e12-b30c-e992e55d2f4c",
   "metadata": {},
   "outputs": [
    {
     "data": {
      "text/plain": [
       "XGBRegressor(alpha=10, base_score=0.5, booster='gbtree', colsample_bylevel=1,\n",
       "             colsample_bynode=1, colsample_bytree=0.4, gamma=0, gpu_id=-1,\n",
       "             importance_type='gain', interaction_constraints='',\n",
       "             learning_rate=0.2, max_delta_step=0, max_depth=5,\n",
       "             min_child_weight=1, missing=nan, monotone_constraints='()',\n",
       "             n_estimators=100, n_jobs=2, num_parallel_tree=1, random_state=0,\n",
       "             reg_alpha=10, reg_lambda=1, scale_pos_weight=1, subsample=1,\n",
       "             tree_method='exact', validate_parameters=1, verbosity=None)"
      ]
     },
     "execution_count": 8,
     "metadata": {},
     "output_type": "execute_result"
    }
   ],
   "source": [
    "# habria que hacer una mejor función objective y probar distintos hiperparametros (con GridSearch?)\n",
    "xg_reg = xgb.XGBRegressor(objective ='reg:squarederror', \n",
    "                colsample_bytree = 0.4, learning_rate = 0.2,\n",
    "                max_depth = 5, alpha = 10, n_estimators = 100)\n",
    "xg_reg.fit(X,y)"
   ]
  },
  {
   "cell_type": "code",
   "execution_count": 9,
   "id": "78441ff6-11ab-4b99-bd17-3ed08a990ee0",
   "metadata": {},
   "outputs": [
    {
     "data": {
      "text/plain": [
       "0.7512020291556825"
      ]
     },
     "execution_count": 9,
     "metadata": {},
     "output_type": "execute_result"
    }
   ],
   "source": [
    "preds=xg_reg.predict(X)\n",
    "# predice una variable continua así que redondeo (por ahi se puede arreglar)\n",
    "# o podemos probar con otro modelo como RandomForest\n",
    "preds=[int(x+0.5) for x in preds]\n",
    "f1_score(y, preds, average='micro')"
   ]
  },
  {
   "cell_type": "code",
   "execution_count": 10,
   "id": "93b515c6-b880-4c00-9fab-0008e1960653",
   "metadata": {
    "tags": []
   },
   "outputs": [],
   "source": [
    "# Test"
   ]
  },
  {
   "cell_type": "code",
   "execution_count": 11,
   "id": "76f44e50-490f-461a-8a32-ac8b4bfdb596",
   "metadata": {},
   "outputs": [],
   "source": [
    "test=pd.read_csv('test_values.csv')"
   ]
  },
  {
   "cell_type": "code",
   "execution_count": 12,
   "id": "7ab5c8e0-47b0-48d3-8519-67c91e27e47c",
   "metadata": {},
   "outputs": [],
   "source": [
    "short_test=test.loc[:,['building_id','geo_level_1_id','geo_level_2_id','geo_level_3_id','foundation_type','roof_type','ground_floor_type','other_floor_type','count_floors_pre_eq','age']]\n",
    "short_test['height_to_area_rt']=test['height_percentage']/test['area_percentage']\n",
    "short_test['geo_level_1_id']=short_test.agg({'geo_level_1_id':lambda x:gl_by_mean[0][x]})\n",
    "short_test['geo_level_2_id']=short_test.agg({'geo_level_2_id':lambda x:gl_by_mode[1][x]})\n",
    "short_test['geo_level_3_id']=short_test.agg({'geo_level_3_id':lambda x:gl_combine[2][x]})\n",
    "short_test.ground_floor_type=short_test['ground_floor_type']=='v'\n",
    "short_test.other_floor_type=short_test['other_floor_type']=='s'\n",
    "short_test.roof_type=short_test['roof_type']=='x'\n",
    "short_test.foundation_type=short_test['foundation_type']=='r'"
   ]
  },
  {
   "cell_type": "code",
   "execution_count": 13,
   "id": "a03ed57e-7593-4ee0-bfce-f6a3c7fea42e",
   "metadata": {},
   "outputs": [],
   "source": [
    "X_test = short_test.iloc[:,:]"
   ]
  },
  {
   "cell_type": "code",
   "execution_count": 14,
   "id": "9dfcea34-a891-4b62-89d4-9e7f6e255435",
   "metadata": {},
   "outputs": [],
   "source": [
    "preds_test=xg_reg.predict(X_test)\n",
    "preds_test=[int(x+0.5) for x in preds_test]"
   ]
  },
  {
   "cell_type": "code",
   "execution_count": 15,
   "id": "9ee13568-be36-4355-9856-471e5e1ef27b",
   "metadata": {},
   "outputs": [],
   "source": [
    "submission_format = pd.read_csv('submission_format.csv', index_col='building_id')"
   ]
  },
  {
   "cell_type": "code",
   "execution_count": 16,
   "id": "8ed6e35a-52fc-4365-bba9-14265c51c138",
   "metadata": {},
   "outputs": [],
   "source": [
    "my_submission = pd.DataFrame(data=preds_test,\n",
    "                             columns=submission_format.columns,\n",
    "                             index=submission_format.index)"
   ]
  },
  {
   "cell_type": "code",
   "execution_count": 17,
   "id": "35630ee4-f2c1-43e6-a18e-e443eacfb155",
   "metadata": {},
   "outputs": [
    {
     "data": {
      "text/html": [
       "<div>\n",
       "<style scoped>\n",
       "    .dataframe tbody tr th:only-of-type {\n",
       "        vertical-align: middle;\n",
       "    }\n",
       "\n",
       "    .dataframe tbody tr th {\n",
       "        vertical-align: top;\n",
       "    }\n",
       "\n",
       "    .dataframe thead th {\n",
       "        text-align: right;\n",
       "    }\n",
       "</style>\n",
       "<table border=\"1\" class=\"dataframe\">\n",
       "  <thead>\n",
       "    <tr style=\"text-align: right;\">\n",
       "      <th></th>\n",
       "      <th>damage_grade</th>\n",
       "    </tr>\n",
       "    <tr>\n",
       "      <th>building_id</th>\n",
       "      <th></th>\n",
       "    </tr>\n",
       "  </thead>\n",
       "  <tbody>\n",
       "    <tr>\n",
       "      <th>300051</th>\n",
       "      <td>3</td>\n",
       "    </tr>\n",
       "    <tr>\n",
       "      <th>99355</th>\n",
       "      <td>2</td>\n",
       "    </tr>\n",
       "    <tr>\n",
       "      <th>890251</th>\n",
       "      <td>3</td>\n",
       "    </tr>\n",
       "    <tr>\n",
       "      <th>745817</th>\n",
       "      <td>1</td>\n",
       "    </tr>\n",
       "    <tr>\n",
       "      <th>421793</th>\n",
       "      <td>3</td>\n",
       "    </tr>\n",
       "  </tbody>\n",
       "</table>\n",
       "</div>"
      ],
      "text/plain": [
       "             damage_grade\n",
       "building_id              \n",
       "300051                  3\n",
       "99355                   2\n",
       "890251                  3\n",
       "745817                  1\n",
       "421793                  3"
      ]
     },
     "execution_count": 17,
     "metadata": {},
     "output_type": "execute_result"
    }
   ],
   "source": [
    "my_submission.head()"
   ]
  },
  {
   "cell_type": "code",
   "execution_count": 18,
   "id": "ad37dde4-ba8a-44b1-9a2f-6bcca08a0cdf",
   "metadata": {},
   "outputs": [],
   "source": [
    "# my_submission.to_csv('submission.csv')"
   ]
  },
  {
   "cell_type": "code",
   "execution_count": 19,
   "id": "31371a8a-0be3-4c28-9833-c5a869d866a2",
   "metadata": {},
   "outputs": [],
   "source": [
    "# !head submission.csv"
   ]
  }
 ],
 "metadata": {
  "kernelspec": {
   "display_name": "Python 3",
   "language": "python",
   "name": "python3"
  },
  "language_info": {
   "codemirror_mode": {
    "name": "ipython",
    "version": 3
   },
   "file_extension": ".py",
   "mimetype": "text/x-python",
   "name": "python",
   "nbconvert_exporter": "python",
   "pygments_lexer": "ipython3",
   "version": "3.8.10"
  }
 },
 "nbformat": 4,
 "nbformat_minor": 5
}
