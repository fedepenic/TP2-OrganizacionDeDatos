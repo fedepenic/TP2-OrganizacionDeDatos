{
  "nbformat": 4,
  "nbformat_minor": 0,
  "metadata": {
    "colab": {
      "name": "lightGBM Final.ipynb",
      "provenance": []
    },
    "kernelspec": {
      "name": "python3",
      "display_name": "Python 3"
    },
    "language_info": {
      "name": "python"
    }
  },
  "cells": [
    {
      "cell_type": "code",
      "metadata": {
        "id": "JuQn_qNcoOiV"
      },
      "source": [
        "#Importamos librerias y leemos los archivos de datos. \n",
        "\n",
        "import xgboost as xgb\n",
        "from sklearn.ensemble import RandomForestRegressor\n",
        "from sklearn.metrics import mean_squared_error\n",
        "import pandas as pd\n",
        "import numpy as np\n",
        "import matplotlib.pyplot as plt\n",
        "import seaborn as sns\n",
        "from scipy import stats\n",
        "%matplotlib inline\n",
        "\n",
        "from sklearn import tree\n",
        "from sklearn.metrics import f1_score, make_scorer\n",
        "import lightgbm as lgb\n",
        "from sklearn.model_selection import train_test_split\n",
        "\n",
        "\n",
        "\n",
        "from sklearn.model_selection import GridSearchCV\n",
        "\n",
        "from sklearn.model_selection import cross_validate,KFold, RandomizedSearchCV\n",
        "\n",
        "train_values = pd.read_csv('train_values.csv', index_col='building_id')\n",
        "train_labels = pd.read_csv('train_labels.csv', index_col='building_id')\n",
        "\n",
        "test_values = pd.read_csv('test_values.csv', index_col='building_id')\n",
        "submission_format = pd.read_csv('submission_format.csv', index_col='building_id')\n",
        "\n",
        "train_values = pd.get_dummies(train_values)\n",
        "test_values = pd.get_dummies(test_values)"
      ],
      "execution_count": 76,
      "outputs": []
    },
    {
      "cell_type": "code",
      "metadata": {
        "colab": {
          "base_uri": "https://localhost:8080/"
        },
        "id": "udv0RFaPwmyh",
        "outputId": "f6b8f97f-fd62-45d9-950d-84e82f193a42"
      },
      "source": [
        "train_values.shape"
      ],
      "execution_count": 77,
      "outputs": [
        {
          "output_type": "execute_result",
          "data": {
            "text/plain": [
              "(260601, 68)"
            ]
          },
          "metadata": {
            "tags": []
          },
          "execution_count": 77
        }
      ]
    },
    {
      "cell_type": "code",
      "metadata": {
        "colab": {
          "base_uri": "https://localhost:8080/",
          "height": 257
        },
        "id": "i4STaRkoPkvI",
        "outputId": "a7a4b149-f1d5-43b8-9c65-89bb1c3a1c09"
      },
      "source": [
        "train_values.head()"
      ],
      "execution_count": 78,
      "outputs": [
        {
          "output_type": "execute_result",
          "data": {
            "text/html": [
              "<div>\n",
              "<style scoped>\n",
              "    .dataframe tbody tr th:only-of-type {\n",
              "        vertical-align: middle;\n",
              "    }\n",
              "\n",
              "    .dataframe tbody tr th {\n",
              "        vertical-align: top;\n",
              "    }\n",
              "\n",
              "    .dataframe thead th {\n",
              "        text-align: right;\n",
              "    }\n",
              "</style>\n",
              "<table border=\"1\" class=\"dataframe\">\n",
              "  <thead>\n",
              "    <tr style=\"text-align: right;\">\n",
              "      <th></th>\n",
              "      <th>geo_level_1_id</th>\n",
              "      <th>geo_level_2_id</th>\n",
              "      <th>geo_level_3_id</th>\n",
              "      <th>count_floors_pre_eq</th>\n",
              "      <th>age</th>\n",
              "      <th>area_percentage</th>\n",
              "      <th>height_percentage</th>\n",
              "      <th>has_superstructure_adobe_mud</th>\n",
              "      <th>has_superstructure_mud_mortar_stone</th>\n",
              "      <th>has_superstructure_stone_flag</th>\n",
              "      <th>has_superstructure_cement_mortar_stone</th>\n",
              "      <th>has_superstructure_mud_mortar_brick</th>\n",
              "      <th>has_superstructure_cement_mortar_brick</th>\n",
              "      <th>has_superstructure_timber</th>\n",
              "      <th>has_superstructure_bamboo</th>\n",
              "      <th>has_superstructure_rc_non_engineered</th>\n",
              "      <th>has_superstructure_rc_engineered</th>\n",
              "      <th>has_superstructure_other</th>\n",
              "      <th>count_families</th>\n",
              "      <th>has_secondary_use</th>\n",
              "      <th>has_secondary_use_agriculture</th>\n",
              "      <th>has_secondary_use_hotel</th>\n",
              "      <th>has_secondary_use_rental</th>\n",
              "      <th>has_secondary_use_institution</th>\n",
              "      <th>has_secondary_use_school</th>\n",
              "      <th>has_secondary_use_industry</th>\n",
              "      <th>has_secondary_use_health_post</th>\n",
              "      <th>has_secondary_use_gov_office</th>\n",
              "      <th>has_secondary_use_use_police</th>\n",
              "      <th>has_secondary_use_other</th>\n",
              "      <th>land_surface_condition_n</th>\n",
              "      <th>land_surface_condition_o</th>\n",
              "      <th>land_surface_condition_t</th>\n",
              "      <th>foundation_type_h</th>\n",
              "      <th>foundation_type_i</th>\n",
              "      <th>foundation_type_r</th>\n",
              "      <th>foundation_type_u</th>\n",
              "      <th>foundation_type_w</th>\n",
              "      <th>roof_type_n</th>\n",
              "      <th>roof_type_q</th>\n",
              "      <th>roof_type_x</th>\n",
              "      <th>ground_floor_type_f</th>\n",
              "      <th>ground_floor_type_m</th>\n",
              "      <th>ground_floor_type_v</th>\n",
              "      <th>ground_floor_type_x</th>\n",
              "      <th>ground_floor_type_z</th>\n",
              "      <th>other_floor_type_j</th>\n",
              "      <th>other_floor_type_q</th>\n",
              "      <th>other_floor_type_s</th>\n",
              "      <th>other_floor_type_x</th>\n",
              "      <th>position_j</th>\n",
              "      <th>position_o</th>\n",
              "      <th>position_s</th>\n",
              "      <th>position_t</th>\n",
              "      <th>plan_configuration_a</th>\n",
              "      <th>plan_configuration_c</th>\n",
              "      <th>plan_configuration_d</th>\n",
              "      <th>plan_configuration_f</th>\n",
              "      <th>plan_configuration_m</th>\n",
              "      <th>plan_configuration_n</th>\n",
              "      <th>plan_configuration_o</th>\n",
              "      <th>plan_configuration_q</th>\n",
              "      <th>plan_configuration_s</th>\n",
              "      <th>plan_configuration_u</th>\n",
              "      <th>legal_ownership_status_a</th>\n",
              "      <th>legal_ownership_status_r</th>\n",
              "      <th>legal_ownership_status_v</th>\n",
              "      <th>legal_ownership_status_w</th>\n",
              "    </tr>\n",
              "    <tr>\n",
              "      <th>building_id</th>\n",
              "      <th></th>\n",
              "      <th></th>\n",
              "      <th></th>\n",
              "      <th></th>\n",
              "      <th></th>\n",
              "      <th></th>\n",
              "      <th></th>\n",
              "      <th></th>\n",
              "      <th></th>\n",
              "      <th></th>\n",
              "      <th></th>\n",
              "      <th></th>\n",
              "      <th></th>\n",
              "      <th></th>\n",
              "      <th></th>\n",
              "      <th></th>\n",
              "      <th></th>\n",
              "      <th></th>\n",
              "      <th></th>\n",
              "      <th></th>\n",
              "      <th></th>\n",
              "      <th></th>\n",
              "      <th></th>\n",
              "      <th></th>\n",
              "      <th></th>\n",
              "      <th></th>\n",
              "      <th></th>\n",
              "      <th></th>\n",
              "      <th></th>\n",
              "      <th></th>\n",
              "      <th></th>\n",
              "      <th></th>\n",
              "      <th></th>\n",
              "      <th></th>\n",
              "      <th></th>\n",
              "      <th></th>\n",
              "      <th></th>\n",
              "      <th></th>\n",
              "      <th></th>\n",
              "      <th></th>\n",
              "      <th></th>\n",
              "      <th></th>\n",
              "      <th></th>\n",
              "      <th></th>\n",
              "      <th></th>\n",
              "      <th></th>\n",
              "      <th></th>\n",
              "      <th></th>\n",
              "      <th></th>\n",
              "      <th></th>\n",
              "      <th></th>\n",
              "      <th></th>\n",
              "      <th></th>\n",
              "      <th></th>\n",
              "      <th></th>\n",
              "      <th></th>\n",
              "      <th></th>\n",
              "      <th></th>\n",
              "      <th></th>\n",
              "      <th></th>\n",
              "      <th></th>\n",
              "      <th></th>\n",
              "      <th></th>\n",
              "      <th></th>\n",
              "      <th></th>\n",
              "      <th></th>\n",
              "      <th></th>\n",
              "      <th></th>\n",
              "    </tr>\n",
              "  </thead>\n",
              "  <tbody>\n",
              "    <tr>\n",
              "      <th>802906</th>\n",
              "      <td>6</td>\n",
              "      <td>487</td>\n",
              "      <td>12198</td>\n",
              "      <td>2</td>\n",
              "      <td>30</td>\n",
              "      <td>6</td>\n",
              "      <td>5</td>\n",
              "      <td>1</td>\n",
              "      <td>1</td>\n",
              "      <td>0</td>\n",
              "      <td>0</td>\n",
              "      <td>0</td>\n",
              "      <td>0</td>\n",
              "      <td>0</td>\n",
              "      <td>0</td>\n",
              "      <td>0</td>\n",
              "      <td>0</td>\n",
              "      <td>0</td>\n",
              "      <td>1</td>\n",
              "      <td>0</td>\n",
              "      <td>0</td>\n",
              "      <td>0</td>\n",
              "      <td>0</td>\n",
              "      <td>0</td>\n",
              "      <td>0</td>\n",
              "      <td>0</td>\n",
              "      <td>0</td>\n",
              "      <td>0</td>\n",
              "      <td>0</td>\n",
              "      <td>0</td>\n",
              "      <td>0</td>\n",
              "      <td>0</td>\n",
              "      <td>1</td>\n",
              "      <td>0</td>\n",
              "      <td>0</td>\n",
              "      <td>1</td>\n",
              "      <td>0</td>\n",
              "      <td>0</td>\n",
              "      <td>1</td>\n",
              "      <td>0</td>\n",
              "      <td>0</td>\n",
              "      <td>1</td>\n",
              "      <td>0</td>\n",
              "      <td>0</td>\n",
              "      <td>0</td>\n",
              "      <td>0</td>\n",
              "      <td>0</td>\n",
              "      <td>1</td>\n",
              "      <td>0</td>\n",
              "      <td>0</td>\n",
              "      <td>0</td>\n",
              "      <td>0</td>\n",
              "      <td>0</td>\n",
              "      <td>1</td>\n",
              "      <td>0</td>\n",
              "      <td>0</td>\n",
              "      <td>1</td>\n",
              "      <td>0</td>\n",
              "      <td>0</td>\n",
              "      <td>0</td>\n",
              "      <td>0</td>\n",
              "      <td>0</td>\n",
              "      <td>0</td>\n",
              "      <td>0</td>\n",
              "      <td>0</td>\n",
              "      <td>0</td>\n",
              "      <td>1</td>\n",
              "      <td>0</td>\n",
              "    </tr>\n",
              "    <tr>\n",
              "      <th>28830</th>\n",
              "      <td>8</td>\n",
              "      <td>900</td>\n",
              "      <td>2812</td>\n",
              "      <td>2</td>\n",
              "      <td>10</td>\n",
              "      <td>8</td>\n",
              "      <td>7</td>\n",
              "      <td>0</td>\n",
              "      <td>1</td>\n",
              "      <td>0</td>\n",
              "      <td>0</td>\n",
              "      <td>0</td>\n",
              "      <td>0</td>\n",
              "      <td>0</td>\n",
              "      <td>0</td>\n",
              "      <td>0</td>\n",
              "      <td>0</td>\n",
              "      <td>0</td>\n",
              "      <td>1</td>\n",
              "      <td>0</td>\n",
              "      <td>0</td>\n",
              "      <td>0</td>\n",
              "      <td>0</td>\n",
              "      <td>0</td>\n",
              "      <td>0</td>\n",
              "      <td>0</td>\n",
              "      <td>0</td>\n",
              "      <td>0</td>\n",
              "      <td>0</td>\n",
              "      <td>0</td>\n",
              "      <td>0</td>\n",
              "      <td>1</td>\n",
              "      <td>0</td>\n",
              "      <td>0</td>\n",
              "      <td>0</td>\n",
              "      <td>1</td>\n",
              "      <td>0</td>\n",
              "      <td>0</td>\n",
              "      <td>1</td>\n",
              "      <td>0</td>\n",
              "      <td>0</td>\n",
              "      <td>0</td>\n",
              "      <td>0</td>\n",
              "      <td>0</td>\n",
              "      <td>1</td>\n",
              "      <td>0</td>\n",
              "      <td>0</td>\n",
              "      <td>1</td>\n",
              "      <td>0</td>\n",
              "      <td>0</td>\n",
              "      <td>0</td>\n",
              "      <td>0</td>\n",
              "      <td>1</td>\n",
              "      <td>0</td>\n",
              "      <td>0</td>\n",
              "      <td>0</td>\n",
              "      <td>1</td>\n",
              "      <td>0</td>\n",
              "      <td>0</td>\n",
              "      <td>0</td>\n",
              "      <td>0</td>\n",
              "      <td>0</td>\n",
              "      <td>0</td>\n",
              "      <td>0</td>\n",
              "      <td>0</td>\n",
              "      <td>0</td>\n",
              "      <td>1</td>\n",
              "      <td>0</td>\n",
              "    </tr>\n",
              "    <tr>\n",
              "      <th>94947</th>\n",
              "      <td>21</td>\n",
              "      <td>363</td>\n",
              "      <td>8973</td>\n",
              "      <td>2</td>\n",
              "      <td>10</td>\n",
              "      <td>5</td>\n",
              "      <td>5</td>\n",
              "      <td>0</td>\n",
              "      <td>1</td>\n",
              "      <td>0</td>\n",
              "      <td>0</td>\n",
              "      <td>0</td>\n",
              "      <td>0</td>\n",
              "      <td>0</td>\n",
              "      <td>0</td>\n",
              "      <td>0</td>\n",
              "      <td>0</td>\n",
              "      <td>0</td>\n",
              "      <td>1</td>\n",
              "      <td>0</td>\n",
              "      <td>0</td>\n",
              "      <td>0</td>\n",
              "      <td>0</td>\n",
              "      <td>0</td>\n",
              "      <td>0</td>\n",
              "      <td>0</td>\n",
              "      <td>0</td>\n",
              "      <td>0</td>\n",
              "      <td>0</td>\n",
              "      <td>0</td>\n",
              "      <td>0</td>\n",
              "      <td>0</td>\n",
              "      <td>1</td>\n",
              "      <td>0</td>\n",
              "      <td>0</td>\n",
              "      <td>1</td>\n",
              "      <td>0</td>\n",
              "      <td>0</td>\n",
              "      <td>1</td>\n",
              "      <td>0</td>\n",
              "      <td>0</td>\n",
              "      <td>1</td>\n",
              "      <td>0</td>\n",
              "      <td>0</td>\n",
              "      <td>0</td>\n",
              "      <td>0</td>\n",
              "      <td>0</td>\n",
              "      <td>0</td>\n",
              "      <td>0</td>\n",
              "      <td>1</td>\n",
              "      <td>0</td>\n",
              "      <td>0</td>\n",
              "      <td>0</td>\n",
              "      <td>1</td>\n",
              "      <td>0</td>\n",
              "      <td>0</td>\n",
              "      <td>1</td>\n",
              "      <td>0</td>\n",
              "      <td>0</td>\n",
              "      <td>0</td>\n",
              "      <td>0</td>\n",
              "      <td>0</td>\n",
              "      <td>0</td>\n",
              "      <td>0</td>\n",
              "      <td>0</td>\n",
              "      <td>0</td>\n",
              "      <td>1</td>\n",
              "      <td>0</td>\n",
              "    </tr>\n",
              "    <tr>\n",
              "      <th>590882</th>\n",
              "      <td>22</td>\n",
              "      <td>418</td>\n",
              "      <td>10694</td>\n",
              "      <td>2</td>\n",
              "      <td>10</td>\n",
              "      <td>6</td>\n",
              "      <td>5</td>\n",
              "      <td>0</td>\n",
              "      <td>1</td>\n",
              "      <td>0</td>\n",
              "      <td>0</td>\n",
              "      <td>0</td>\n",
              "      <td>0</td>\n",
              "      <td>1</td>\n",
              "      <td>1</td>\n",
              "      <td>0</td>\n",
              "      <td>0</td>\n",
              "      <td>0</td>\n",
              "      <td>1</td>\n",
              "      <td>0</td>\n",
              "      <td>0</td>\n",
              "      <td>0</td>\n",
              "      <td>0</td>\n",
              "      <td>0</td>\n",
              "      <td>0</td>\n",
              "      <td>0</td>\n",
              "      <td>0</td>\n",
              "      <td>0</td>\n",
              "      <td>0</td>\n",
              "      <td>0</td>\n",
              "      <td>0</td>\n",
              "      <td>0</td>\n",
              "      <td>1</td>\n",
              "      <td>0</td>\n",
              "      <td>0</td>\n",
              "      <td>1</td>\n",
              "      <td>0</td>\n",
              "      <td>0</td>\n",
              "      <td>1</td>\n",
              "      <td>0</td>\n",
              "      <td>0</td>\n",
              "      <td>1</td>\n",
              "      <td>0</td>\n",
              "      <td>0</td>\n",
              "      <td>0</td>\n",
              "      <td>0</td>\n",
              "      <td>0</td>\n",
              "      <td>0</td>\n",
              "      <td>0</td>\n",
              "      <td>1</td>\n",
              "      <td>0</td>\n",
              "      <td>0</td>\n",
              "      <td>1</td>\n",
              "      <td>0</td>\n",
              "      <td>0</td>\n",
              "      <td>0</td>\n",
              "      <td>1</td>\n",
              "      <td>0</td>\n",
              "      <td>0</td>\n",
              "      <td>0</td>\n",
              "      <td>0</td>\n",
              "      <td>0</td>\n",
              "      <td>0</td>\n",
              "      <td>0</td>\n",
              "      <td>0</td>\n",
              "      <td>0</td>\n",
              "      <td>1</td>\n",
              "      <td>0</td>\n",
              "    </tr>\n",
              "    <tr>\n",
              "      <th>201944</th>\n",
              "      <td>11</td>\n",
              "      <td>131</td>\n",
              "      <td>1488</td>\n",
              "      <td>3</td>\n",
              "      <td>30</td>\n",
              "      <td>8</td>\n",
              "      <td>9</td>\n",
              "      <td>1</td>\n",
              "      <td>0</td>\n",
              "      <td>0</td>\n",
              "      <td>0</td>\n",
              "      <td>0</td>\n",
              "      <td>0</td>\n",
              "      <td>0</td>\n",
              "      <td>0</td>\n",
              "      <td>0</td>\n",
              "      <td>0</td>\n",
              "      <td>0</td>\n",
              "      <td>1</td>\n",
              "      <td>0</td>\n",
              "      <td>0</td>\n",
              "      <td>0</td>\n",
              "      <td>0</td>\n",
              "      <td>0</td>\n",
              "      <td>0</td>\n",
              "      <td>0</td>\n",
              "      <td>0</td>\n",
              "      <td>0</td>\n",
              "      <td>0</td>\n",
              "      <td>0</td>\n",
              "      <td>0</td>\n",
              "      <td>0</td>\n",
              "      <td>1</td>\n",
              "      <td>0</td>\n",
              "      <td>0</td>\n",
              "      <td>1</td>\n",
              "      <td>0</td>\n",
              "      <td>0</td>\n",
              "      <td>1</td>\n",
              "      <td>0</td>\n",
              "      <td>0</td>\n",
              "      <td>1</td>\n",
              "      <td>0</td>\n",
              "      <td>0</td>\n",
              "      <td>0</td>\n",
              "      <td>0</td>\n",
              "      <td>0</td>\n",
              "      <td>0</td>\n",
              "      <td>0</td>\n",
              "      <td>1</td>\n",
              "      <td>0</td>\n",
              "      <td>0</td>\n",
              "      <td>1</td>\n",
              "      <td>0</td>\n",
              "      <td>0</td>\n",
              "      <td>0</td>\n",
              "      <td>1</td>\n",
              "      <td>0</td>\n",
              "      <td>0</td>\n",
              "      <td>0</td>\n",
              "      <td>0</td>\n",
              "      <td>0</td>\n",
              "      <td>0</td>\n",
              "      <td>0</td>\n",
              "      <td>0</td>\n",
              "      <td>0</td>\n",
              "      <td>1</td>\n",
              "      <td>0</td>\n",
              "    </tr>\n",
              "  </tbody>\n",
              "</table>\n",
              "</div>"
            ],
            "text/plain": [
              "             geo_level_1_id  ...  legal_ownership_status_w\n",
              "building_id                  ...                          \n",
              "802906                    6  ...                         0\n",
              "28830                     8  ...                         0\n",
              "94947                    21  ...                         0\n",
              "590882                   22  ...                         0\n",
              "201944                   11  ...                         0\n",
              "\n",
              "[5 rows x 68 columns]"
            ]
          },
          "metadata": {
            "tags": []
          },
          "execution_count": 78
        }
      ]
    },
    {
      "cell_type": "markdown",
      "metadata": {
        "id": "8PaNjxE94qhs"
      },
      "source": [
        "##F1 Scorer"
      ]
    },
    {
      "cell_type": "code",
      "metadata": {
        "id": "NtbWBvwZFjLD"
      },
      "source": [
        "f1 = make_scorer(f1_score , average='micro')"
      ],
      "execution_count": 79,
      "outputs": []
    },
    {
      "cell_type": "markdown",
      "metadata": {
        "id": "faE43P8p4vDq"
      },
      "source": [
        "##Feature Engineering"
      ]
    },
    {
      "cell_type": "code",
      "metadata": {
        "id": "hjwt_UXNOYJ-"
      },
      "source": [
        "#Geo Level Id 1. \n",
        "\n",
        "train_values.geo_level_1_id.describe() \n",
        "\n",
        "train_values['geo_level_1_id_less_than_10'] = [1 if (x <= 10) else 0 for x in train_values['geo_level_1_id']]\n",
        "\n",
        "train_values['geo_level_1_id_10_20'] = [1 if ((x <= 20) & (x > 10))  else 0 \\\n",
        "                                        for x in train_values['geo_level_1_id']]\n",
        "\n",
        "train_values['geo_level_1_id_higher_than_20'] = [1 if (x > 20) else 0 for x in train_values['geo_level_1_id']]\n",
        "\n",
        "\n",
        "#Hacemos lo mismo para el set de Test. \n",
        "\n",
        "\n",
        "test_values['geo_level_1_id_less_than_10'] = [1 if (x <= 10) else 0 for x in test_values['geo_level_1_id']]\n",
        "\n",
        "test_values['geo_level_1_id_10_20'] = [1 if ((x <= 20) & (x > 10))  else 0 \\\n",
        "                                        for x in test_values['geo_level_1_id']]\n",
        "\n",
        "test_values['geo_level_1_id_higher_than_20'] = [1 if (x > 20) else 0 for x in test_values['geo_level_1_id']]"
      ],
      "execution_count": 80,
      "outputs": []
    },
    {
      "cell_type": "code",
      "metadata": {
        "id": "XsQbWr_aOen_"
      },
      "source": [
        "#Geo Level Id 2. \n",
        "\n",
        "train_values.geo_level_2_id.describe() \n",
        "\n",
        "train_values['geo_level_2_id_less_than_500'] = [1 if (x <= 500) else 0 for x in train_values['geo_level_2_id']]\n",
        "\n",
        "train_values['geo_level_2_id_500_1000'] = [1 if ((x <= 1000) & (x > 500)) \\\n",
        "                                           else 0 for x in train_values['geo_level_2_id']]\n",
        "\n",
        "train_values['geo_level_2_id_higher_than_1000'] = [1 if (x > 1000) else 0 for x in train_values['geo_level_2_id']]\n",
        "\n",
        "\n",
        "#Hacemos lo mismo para el set de Test.\n",
        "\n",
        "\n",
        "test_values['geo_level_2_id_less_than_500'] = [1 if (x <= 500) else 0 for x in test_values['geo_level_2_id']]\n",
        "\n",
        "test_values['geo_level_2_id_500_1000'] = [1 if ((x <= 1000) & (x > 500)) \\\n",
        "                                           else 0 for x in test_values['geo_level_2_id']]\n",
        "\n",
        "test_values['geo_level_2_id_higher_than_1000'] = [1 if (x > 1000) else 0 for x in test_values['geo_level_2_id']]"
      ],
      "execution_count": 81,
      "outputs": []
    },
    {
      "cell_type": "code",
      "metadata": {
        "id": "outqUpLwOlWA"
      },
      "source": [
        "\n",
        "#Geo Level Id 3. \n",
        "\n",
        "train_values.geo_level_3_id.describe() \n",
        "\n",
        "train_values['geo_level_3_id_less_than_4000'] = [1 if (x <= 4000) else 0 for x in train_values['geo_level_3_id']]\n",
        "\n",
        "train_values['geo_level_3_id_4000_8000'] = [1 if ((x <= 8000) & (x > 4000))  \\\n",
        "                                            else 0 for x in train_values['geo_level_3_id']]\n",
        "\n",
        "train_values['geo_level_3_id_higher_than_8000'] = [1 if (x > 8000) else 0 for x in train_values['geo_level_3_id']]\n",
        "\n",
        "\n",
        "\n",
        "#Hacemos lo mismo para el set de Test.\n",
        "\n",
        "\n",
        "test_values['geo_level_3_id_less_than_4000'] = [1 if (x <= 4000) else 0 for x in test_values['geo_level_3_id']]\n",
        "\n",
        "test_values['geo_level_3_id_4000_8000'] = [1 if ((x <= 8000) & (x > 4000))  \\\n",
        "                                            else 0 for x in test_values['geo_level_3_id']]\n",
        "\n",
        "test_values['geo_level_3_id_higher_than_8000'] = [1 if (x > 8000) else 0 for x in test_values['geo_level_3_id']]"
      ],
      "execution_count": 82,
      "outputs": []
    },
    {
      "cell_type": "code",
      "metadata": {
        "id": "4Y7ywtkFOmdG"
      },
      "source": [
        "#Count Floors Pre Eq.\n",
        "\n",
        "count_floors_pre_eq_mean = train_values['count_floors_pre_eq'].mean()\n",
        "\n",
        "train_values['count_floor_pre_eq_higher_than_mean'] = [1 if\\\n",
        "                    (x > count_floors_pre_eq_mean) else 0 for x in train_values['count_floors_pre_eq']] \n",
        "\n",
        "\n",
        "\n",
        "#Hacemos lo mismo para el set de Test.\n",
        "\n",
        "\n",
        "count_floors_pre_eq_mean = test_values['count_floors_pre_eq'].mean()\n",
        "\n",
        "test_values['count_floor_pre_eq_higher_than_mean'] = [1 if\\\n",
        "                    (x > count_floors_pre_eq_mean) else 0 for x in test_values['count_floors_pre_eq']]"
      ],
      "execution_count": 83,
      "outputs": []
    },
    {
      "cell_type": "code",
      "metadata": {
        "id": "YdI_poQZOpz2"
      },
      "source": [
        "#Age. \n",
        "\n",
        "train_values.age.describe()\n",
        "\n",
        "train_values['age_less_than_20'] = [1 if (x <= 20) else 0 for x in train_values['age']]\n",
        "\n",
        "train_values['age_20_50'] = [1 if ((x <= 50) & (x > 20))  else 0 for x in train_values['age']]\n",
        "\n",
        "train_values['age_higher_than_50'] = [1 if (x > 50) else 0 for x in train_values['age']]\n",
        "\n",
        "\n",
        "\n",
        "#Hacemos lo mismo para el set de Test.\n",
        "\n",
        "\n",
        "test_values['age_less_than_20'] = [1 if (x <= 20) else 0 for x in test_values['age']]\n",
        "\n",
        "test_values['age_20_50'] = [1 if ((x <= 50) & (x > 20))  else 0 for x in test_values['age']]\n",
        "\n",
        "test_values['age_higher_than_50'] = [1 if (x > 50) else 0 for x in test_values['age']]"
      ],
      "execution_count": 84,
      "outputs": []
    },
    {
      "cell_type": "code",
      "metadata": {
        "id": "b3WW32-VOvzc"
      },
      "source": [
        "#Area and Height Percentage. Volume Percentage. \n",
        "\n",
        "train_values['volume_percetage'] = (train_values['area_percentage'] * train_values['height_percentage'])\n",
        "\n",
        "\n",
        "\n",
        "#Hacemos lo mismo para el set de Test.\n",
        "\n",
        "\n",
        "test_values['volume_percetage'] = (test_values['area_percentage'] * test_values['height_percentage'])"
      ],
      "execution_count": 85,
      "outputs": []
    },
    {
      "cell_type": "code",
      "metadata": {
        "id": "dcOHOQyTOxLr"
      },
      "source": [
        "#Materiales.\n",
        "\n",
        "train_values['weak_superstructure'] = np.where( ( (train_values.has_superstructure_mud_mortar_stone == 1) |  \\\n",
        "                                       (train_values.has_superstructure_adobe_mud == 1) \\\n",
        "                                           | (train_values.has_superstructure_stone_flag == 1)  \\\n",
        "                                           | (train_values.has_superstructure_mud_mortar_brick == 1)   \\\n",
        "                                            | (train_values.has_superstructure_timber == 1)   \\\n",
        "                                            | (train_values.has_superstructure_bamboo == 1)    ), 1, 0)\n",
        "\n",
        "train_values['strong_superstructure'] = np.where( ( (train_values.has_superstructure_cement_mortar_brick == 1) | \\\n",
        "                                       (train_values.has_superstructure_rc_non_engineered == 1) \\\n",
        "                                           | (train_values.has_superstructure_rc_engineered == 1)  ), 1, 0)\n",
        "\n",
        "\n",
        "#Hacemos lo mismo para el set de Test.\n",
        "\n",
        "\n",
        "test_values['weak_superstructure'] = np.where( ( (test_values.has_superstructure_mud_mortar_stone == 1) |  \\\n",
        "                                       (test_values.has_superstructure_adobe_mud == 1) \\\n",
        "                                           | (test_values.has_superstructure_stone_flag == 1)  \\\n",
        "                                           | (test_values.has_superstructure_mud_mortar_brick == 1)   \\\n",
        "                                            | (test_values.has_superstructure_timber == 1)   \\\n",
        "                                            | (test_values.has_superstructure_bamboo == 1)    ), 1, 0)\n",
        "\n",
        "test_values['strong_superstructure'] = np.where( ( (test_values.has_superstructure_cement_mortar_brick == 1) | \\\n",
        "                                       (test_values.has_superstructure_rc_non_engineered == 1) \\\n",
        "                                           | (test_values.has_superstructure_rc_engineered == 1)  ), 1, 0)"
      ],
      "execution_count": 86,
      "outputs": []
    },
    {
      "cell_type": "code",
      "metadata": {
        "id": "lmnTzFCBPU0U"
      },
      "source": [
        "#Usos secundarios.\n",
        "\n",
        "train_values['cantidad_usos_secundarios'] = train_values['has_secondary_use_agriculture'] + \\\n",
        "                                             train_values['has_secondary_use_hotel'] + \\\n",
        "                                              train_values['has_secondary_use_rental'] + \\\n",
        "                                              train_values['has_secondary_use_institution'] + \\\n",
        "                                             train_values['has_secondary_use_school'] + \\\n",
        "                                                train_values['has_secondary_use_industry'] + \\\n",
        "                                             train_values['has_secondary_use_health_post'] + \\\n",
        "                                                train_values['has_secondary_use_gov_office'] + \\\n",
        "                                                train_values['has_secondary_use_use_police'] + \\\n",
        "                                                train_values['has_secondary_use_other']\n",
        "\n",
        "\n",
        "#Hacemos lo mismo para el set de Test.\n",
        "\n",
        "\n",
        "test_values['cantidad_usos_secundarios'] = test_values['has_secondary_use_agriculture'] + \\\n",
        "                                             test_values['has_secondary_use_hotel'] + \\\n",
        "                                              test_values['has_secondary_use_rental'] + \\\n",
        "                                              test_values['has_secondary_use_institution'] + \\\n",
        "                                             test_values['has_secondary_use_school'] + \\\n",
        "                                                test_values['has_secondary_use_industry'] + \\\n",
        "                                             test_values['has_secondary_use_health_post'] + \\\n",
        "                                                test_values['has_secondary_use_gov_office'] + \\\n",
        "                                                test_values['has_secondary_use_use_police'] + \\\n",
        "                                                test_values['has_secondary_use_other']"
      ],
      "execution_count": 87,
      "outputs": []
    },
    {
      "cell_type": "markdown",
      "metadata": {
        "id": "Pbw22AkN44Wv"
      },
      "source": [
        "##Tuning de Hiperparametros"
      ]
    },
    {
      "cell_type": "code",
      "metadata": {
        "id": "r4dmTjqjCdqe"
      },
      "source": [
        "X=train_values\n",
        "y=train_labels"
      ],
      "execution_count": 88,
      "outputs": []
    },
    {
      "cell_type": "code",
      "metadata": {
        "id": "uyNAcn-WDQdc"
      },
      "source": [
        "X_train, X_test, y_train, y_test = train_test_split(X, y, test_size=0.2)"
      ],
      "execution_count": 89,
      "outputs": []
    },
    {
      "cell_type": "code",
      "metadata": {
        "id": "F2vhKZsXCWBQ"
      },
      "source": [
        "parameters = {\n",
        "              'num_leaves':[32],\n",
        "             'learning_rate' :[0.1],\n",
        "              'max_depth': [6],\n",
        "              'num_iteration' : [3000]\n",
        "            }"
      ],
      "execution_count": 69,
      "outputs": []
    },
    {
      "cell_type": "code",
      "metadata": {
        "colab": {
          "base_uri": "https://localhost:8080/"
        },
        "id": "92hROiDRCejK",
        "outputId": "c665dbd8-44af-4336-9839-f87f2eb2ec52"
      },
      "source": [
        "%%time\n",
        "\n",
        "kf=KFold(n_splits=2,shuffle=True)\n",
        "\n",
        "gds=GridSearchCV(estimator = lgb.LGBMClassifier(n_estimators=3000, n_jobs=6), param_grid = parameters, cv = kf, scoring = f1)\n",
        "\n",
        "gds.fit(X_train,y_train)"
      ],
      "execution_count": 70,
      "outputs": [
        {
          "output_type": "stream",
          "text": [
            "/usr/local/lib/python3.7/dist-packages/sklearn/preprocessing/_label.py:235: DataConversionWarning: A column-vector y was passed when a 1d array was expected. Please change the shape of y to (n_samples, ), for example using ravel().\n",
            "  y = column_or_1d(y, warn=True)\n",
            "/usr/local/lib/python3.7/dist-packages/sklearn/preprocessing/_label.py:268: DataConversionWarning: A column-vector y was passed when a 1d array was expected. Please change the shape of y to (n_samples, ), for example using ravel().\n",
            "  y = column_or_1d(y, warn=True)\n",
            "/usr/local/lib/python3.7/dist-packages/lightgbm/engine.py:118: UserWarning: Found `num_iteration` in params. Will use it instead of argument\n",
            "  warnings.warn(\"Found `{}` in params. Will use it instead of argument\".format(alias))\n"
          ],
          "name": "stderr"
        },
        {
          "output_type": "stream",
          "text": [
            "CPU times: user 24min 59s, sys: 1min 59s, total: 26min 58s\n",
            "Wall time: 14min 34s\n"
          ],
          "name": "stdout"
        }
      ]
    },
    {
      "cell_type": "code",
      "metadata": {
        "colab": {
          "base_uri": "https://localhost:8080/"
        },
        "id": "o0wyyaD348HC",
        "outputId": "9724ec75-85d7-4c9e-8c73-d8b41e6c3e7a"
      },
      "source": [
        "gds.best_params_"
      ],
      "execution_count": 71,
      "outputs": [
        {
          "output_type": "execute_result",
          "data": {
            "text/plain": [
              "{'learning_rate': 0.1, 'max_depth': 6, 'num_iteration': 3000, 'num_leaves': 32}"
            ]
          },
          "metadata": {
            "tags": []
          },
          "execution_count": 71
        }
      ]
    },
    {
      "cell_type": "markdown",
      "metadata": {
        "id": "nsejhe33487F"
      },
      "source": [
        "##Training"
      ]
    },
    {
      "cell_type": "code",
      "metadata": {
        "colab": {
          "base_uri": "https://localhost:8080/"
        },
        "id": "Im8cAYx7BU-C",
        "outputId": "26b22510-e8ee-4db1-e9e3-1e8edb609dd0"
      },
      "source": [
        "model = lgb.LGBMClassifier(num_iterations=3000, n_jobs=6, num_leaves=32, max_depth=6)\n",
        "model.fit(X, y)"
      ],
      "execution_count": 90,
      "outputs": [
        {
          "output_type": "stream",
          "text": [
            "/usr/local/lib/python3.7/dist-packages/sklearn/preprocessing/_label.py:235: DataConversionWarning: A column-vector y was passed when a 1d array was expected. Please change the shape of y to (n_samples, ), for example using ravel().\n",
            "  y = column_or_1d(y, warn=True)\n",
            "/usr/local/lib/python3.7/dist-packages/sklearn/preprocessing/_label.py:268: DataConversionWarning: A column-vector y was passed when a 1d array was expected. Please change the shape of y to (n_samples, ), for example using ravel().\n",
            "  y = column_or_1d(y, warn=True)\n",
            "/usr/local/lib/python3.7/dist-packages/lightgbm/engine.py:118: UserWarning: Found `num_iterations` in params. Will use it instead of argument\n",
            "  warnings.warn(\"Found `{}` in params. Will use it instead of argument\".format(alias))\n"
          ],
          "name": "stderr"
        },
        {
          "output_type": "execute_result",
          "data": {
            "text/plain": [
              "LGBMClassifier(boosting_type='gbdt', class_weight=None, colsample_bytree=1.0,\n",
              "               importance_type='split', learning_rate=0.1, max_depth=6,\n",
              "               min_child_samples=20, min_child_weight=0.001, min_split_gain=0.0,\n",
              "               n_estimators=100, n_jobs=6, num_iterations=3000, num_leaves=32,\n",
              "               objective=None, random_state=None, reg_alpha=0.0, reg_lambda=0.0,\n",
              "               silent=True, subsample=1.0, subsample_for_bin=200000,\n",
              "               subsample_freq=0)"
            ]
          },
          "metadata": {
            "tags": []
          },
          "execution_count": 90
        }
      ]
    },
    {
      "cell_type": "code",
      "metadata": {
        "colab": {
          "base_uri": "https://localhost:8080/"
        },
        "id": "Vn9fJ8ZCBq0U",
        "outputId": "fac15d43-3c91-435c-e2ca-d11fa396e71d"
      },
      "source": [
        "print(f1_score(y_train, model.predict(X_train), average='micro'))\n",
        "print(f1_score(y_test, model.predict(X_test), average='micro'))"
      ],
      "execution_count": 91,
      "outputs": [
        {
          "output_type": "stream",
          "text": [
            "0.8112193016116653\n",
            "0.8116690009784924\n"
          ],
          "name": "stdout"
        }
      ]
    },
    {
      "cell_type": "code",
      "metadata": {
        "colab": {
          "base_uri": "https://localhost:8080/",
          "height": 608
        },
        "id": "nsEkYBvrURx0",
        "outputId": "36215b5e-5dcc-4e12-841a-de04a840944d"
      },
      "source": [
        "feat_importance = pd.Series(model.feature_importances_, index = X.columns)\n",
        "feat_importance.nlargest(20).plot(kind='barh', figsize=(7,10))"
      ],
      "execution_count": 92,
      "outputs": [
        {
          "output_type": "execute_result",
          "data": {
            "text/plain": [
              "<matplotlib.axes._subplots.AxesSubplot at 0x7f10b57c0850>"
            ]
          },
          "metadata": {
            "tags": []
          },
          "execution_count": 92
        },
        {
          "output_type": "display_data",
          "data": {
            "image/png": "[encoded data removed]",
            "text/plain": [
              "<Figure size 504x720 with 1 Axes>"
            ]
          },
          "metadata": {
            "tags": [],
            "needs_background": "light"
          }
        }
      ]
    },
    {
      "cell_type": "markdown",
      "metadata": {
        "id": "wLBbo5HWXXHb"
      },
      "source": [
        "##Submission"
      ]
    },
    {
      "cell_type": "code",
      "metadata": {
        "id": "GThJBOMq2LFL"
      },
      "source": [
        "prediccionesFinales = model.predict(test_values)"
      ],
      "execution_count": 93,
      "outputs": []
    },
    {
      "cell_type": "code",
      "metadata": {
        "colab": {
          "base_uri": "https://localhost:8080/",
          "height": 237
        },
        "id": "Ost8rvuh0iBo",
        "outputId": "029a86df-537b-4cb4-e69f-574a54814ef7"
      },
      "source": [
        "submission = pd.DataFrame(data=prediccionesFinales,\n",
        "                          columns=submission_format.columns,\n",
        "                          index=submission_format.index)\n",
        "submission.head()"
      ],
      "execution_count": 94,
      "outputs": [
        {
          "output_type": "execute_result",
          "data": {
            "text/html": [
              "<div>\n",
              "<style scoped>\n",
              "    .dataframe tbody tr th:only-of-type {\n",
              "        vertical-align: middle;\n",
              "    }\n",
              "\n",
              "    .dataframe tbody tr th {\n",
              "        vertical-align: top;\n",
              "    }\n",
              "\n",
              "    .dataframe thead th {\n",
              "        text-align: right;\n",
              "    }\n",
              "</style>\n",
              "<table border=\"1\" class=\"dataframe\">\n",
              "  <thead>\n",
              "    <tr style=\"text-align: right;\">\n",
              "      <th></th>\n",
              "      <th>damage_grade</th>\n",
              "    </tr>\n",
              "    <tr>\n",
              "      <th>building_id</th>\n",
              "      <th></th>\n",
              "    </tr>\n",
              "  </thead>\n",
              "  <tbody>\n",
              "    <tr>\n",
              "      <th>300051</th>\n",
              "      <td>3</td>\n",
              "    </tr>\n",
              "    <tr>\n",
              "      <th>99355</th>\n",
              "      <td>2</td>\n",
              "    </tr>\n",
              "    <tr>\n",
              "      <th>890251</th>\n",
              "      <td>2</td>\n",
              "    </tr>\n",
              "    <tr>\n",
              "      <th>745817</th>\n",
              "      <td>1</td>\n",
              "    </tr>\n",
              "    <tr>\n",
              "      <th>421793</th>\n",
              "      <td>3</td>\n",
              "    </tr>\n",
              "  </tbody>\n",
              "</table>\n",
              "</div>"
            ],
            "text/plain": [
              "             damage_grade\n",
              "building_id              \n",
              "300051                  3\n",
              "99355                   2\n",
              "890251                  2\n",
              "745817                  1\n",
              "421793                  3"
            ]
          },
          "metadata": {
            "tags": []
          },
          "execution_count": 94
        }
      ]
    },
    {
      "cell_type": "code",
      "metadata": {
        "id": "h7UefzCh1M-m"
      },
      "source": [
        "submission.to_csv('submissionLightGBM.csv')"
      ],
      "execution_count": 95,
      "outputs": []
    },
    {
      "cell_type": "code",
      "metadata": {
        "id": "jf8Ri0IWX5e_"
      },
      "source": [
        ""
      ],
      "execution_count": null,
      "outputs": []
    }
  ]
}